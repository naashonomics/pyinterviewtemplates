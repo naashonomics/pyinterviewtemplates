{
 "cells": [
  {
   "cell_type": "markdown",
   "metadata": {},
   "source": [
    "# Idea of Unit Tests using Assert \n",
    "# Add two numbers "
   ]
  },
  {
   "cell_type": "code",
   "execution_count": 4,
   "metadata": {},
   "outputs": [
    {
     "name": "stdout",
     "output_type": "stream",
     "text": [
      "All Tests Cases Passed\n"
     ]
    }
   ],
   "source": [
    "def solution(num1,num2):\n",
    "    return num1+num2\n",
    "from nose.tools import assert_equal\n",
    "class SolutionTest(object):\n",
    "    def test(self,sol):\n",
    "        assert_equal(sol(2,2),4)\n",
    "        assert_equal(sol(4,4),8)\n",
    "        print \"All Tests Cases Passed\"\n",
    "\n",
    "#run Tests\n",
    "t = SolutionTest()\n",
    "t.test(solution)"
   ]
  },
  {
   "cell_type": "code",
   "execution_count": null,
   "metadata": {},
   "outputs": [],
   "source": []
  }
 ],
 "metadata": {
  "kernelspec": {
   "display_name": "Python 2",
   "language": "python",
   "name": "python2"
  },
  "language_info": {
   "codemirror_mode": {
    "name": "ipython",
    "version": 2
   },
   "file_extension": ".py",
   "mimetype": "text/x-python",
   "name": "python",
   "nbconvert_exporter": "python",
   "pygments_lexer": "ipython2",
   "version": "2.7.14"
  }
 },
 "nbformat": 4,
 "nbformat_minor": 2
}
